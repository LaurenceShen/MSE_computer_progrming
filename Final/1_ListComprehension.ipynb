{
 "cells": [
  {
   "cell_type": "markdown",
   "metadata": {},
   "source": [
    "# Description (20 points)\n",
    "In this problem, you are to write list comprehension to form a new list and print the result. Specifically, you are to \n",
    "1. generate a sequence $lt$ of random values (given); \n",
    "2. use list comprehension to find values in $lt$ that are common divisors of 2 and 3, and also negative; and\n",
    "3. print the resulting list.\n",
    "\n",
    "# Input\n",
    "Two int numbers. \n",
    "1. The first int is a random number seed you need to set for the random number generator. \n",
    "2. The second int is the size of $lt$, which is a 1d Numpy Array  with random integers  generated in the range $-200 \\le x \\lt 200$.\n",
    "\n",
    "# Output \n",
    "The print of the list with the resulting criteria."
   ]
  },
  {
   "cell_type": "markdown",
   "metadata": {},
   "source": [
    "# Sample Input 1\n",
    "15 </br>\n",
    "500 </br>"
   ]
  },
  {
   "cell_type": "markdown",
   "metadata": {},
   "source": [
    "# Sample Output 1\n",
    "[-96, -186, -12, -126, -132, -96, -18, -174, -138, -60, -66, -168, -24, -138, -174, -48, -180, -186, -36, -150, -30, -144, -78, -24, -150, -120, -30, -36, -84, -54, -24, -66, -54, -30, -60, -126]"
   ]
  },
  {
   "cell_type": "markdown",
   "metadata": {},
   "source": [
    "# Reading Input Records (given)\n",
    "The following lines of code will read in the records and store them in a 1d NumPy Array called $lt$. "
   ]
  },
  {
   "cell_type": "code",
   "execution_count": 1,
   "metadata": {},
   "outputs": [],
   "source": [
    "import numpy as np"
   ]
  },
  {
   "cell_type": "code",
   "execution_count": 2,
   "metadata": {},
   "outputs": [],
   "source": [
    "#seed = int(input())\n",
    "#lsize = int(input())\n",
    "\n",
    "seed = 15\n",
    "lsize = 500\n",
    "\n",
    "np.random.seed(seed)\n",
    "lt = np.random.randint(low = -200, high = 200, size = lsize)"
   ]
  },
  {
   "cell_type": "markdown",
   "metadata": {},
   "source": [
    "You can see the input by running the following cell. **However, the online judge do not expect this output.**"
   ]
  },
  {
   "cell_type": "code",
   "execution_count": 3,
   "metadata": {},
   "outputs": [
    {
     "name": "stdout",
     "output_type": "stream",
     "text": [
      "[  45  196  -67  175  184  -44  -45   -1    3 -115  -82   21 -183   37\n",
      " -177  118   66  -57   -4  161 -161   93 -181  100    5  -43  135  -98\n",
      " -185  112  170  -23 -199 -104 -115  131  106   32  109 -159  -32 -178\n",
      "  -96  112  155   60   63 -134   29  191   43   80 -155  139   40  160\n",
      "  175 -147 -171  132 -112  166  182  132   89  -70   36   43 -158 -119\n",
      " -149  118  -49   26 -113   74  146  146 -184 -110  -81  126   60   84\n",
      "  140  159 -172  125  129  -88  140 -154  -34   91 -186 -118   31 -110\n",
      "  -20  170  -31   91   29  -92  -77  -40  110  -39 -166  -86   89   84\n",
      "  156   15  116  -64  159   66   34    3  -29  133  117  -92    7 -115\n",
      " -124 -137  -12 -173  181  176   12  172   12  118   19  -87 -200  124\n",
      "  197   31  160  -67   59  -88  -20 -152  195  121  161 -126 -132 -163\n",
      "   83   83 -128  163   23 -143  -41 -183  179   37  173   73   52  126\n",
      " -152   81  164  144   91  124   46  113  194 -166  169 -157   90 -134\n",
      "    8  -96 -183   79  116   96  -93 -190  -18   -2   37  151   46  145\n",
      "   60   13 -104 -154  195  -63 -174 -138   24  171  115   49  126   42\n",
      "  163  -70  -60  192  -66  -67  146  138  -39   17 -147   21  -27 -195\n",
      "  -38  169   78 -168   56  -92 -122   -5 -112  -21  176   95  184  -50\n",
      "  -56   48 -141  -35   92  -24   46  -77  140 -138 -174  -17   64  163\n",
      "   21   73  -16   12   32  177  -83   67   88    3 -113  128   95 -130\n",
      "  149  -21 -125  -48 -119   29 -151  -99  127   98   31 -180    9 -186\n",
      "  190  -17  -45  -36 -150   73  -38  106   86 -100  143  163   86  -99\n",
      "  193 -193 -193    5 -169  -55  197  -47 -155   13   44  -30  143  -68\n",
      "  -22 -144 -106  -23  -46 -125   92 -197 -185  154  148  -45  137  -68\n",
      "  155 -161 -109   -7   87  -78   42 -139  -62   59  144  -50 -169  151\n",
      "  -81   79 -121 -193  -91 -171   46  108   56  -49   -3  -24   78   93\n",
      "  -73 -104 -188  -87  177   57 -150   27   32  -35 -101  -19  -34 -120\n",
      "  -63  -23  -34  -62   71  -30   53   82 -115  142  -99  135  -36   53\n",
      " -140  163  -14   44  165   45   55  -71  195   30   35  162  170 -154\n",
      "  -13 -141   26  -82  164  -84   71 -131  179 -194   49  199   52 -151\n",
      "   25    2  198    8   36  -54   17  121  183  -11  178   94 -131  -63\n",
      " -176  -61  102   30 -200   48   59  140  -24   86   48   20  -38   43\n",
      "  163    9  -66  -93  -54   45  -92 -154  -94   22   75  -50   25  -27\n",
      "    1  102   23  179  -11 -164  -69 -103 -196  -38 -113  -91  183  -37\n",
      "  132  -30  -70  194  -33 -128   72   50  -89  -41   -8  -16   98 -165\n",
      " -107  -99  186 -153  149  -32  -71  157 -178   80  -60   -8  -98 -126\n",
      "  133   16 -165  -22  161 -105 -143  -99    3  167]\n"
     ]
    }
   ],
   "source": [
    "print(lt)"
   ]
  },
  {
   "cell_type": "markdown",
   "metadata": {},
   "source": [
    "# Main Program (write your main program here and copy and paste them to online judge when you are confident.)"
   ]
  }
 ],
 "metadata": {
  "kernelspec": {
   "display_name": "Python 3",
   "language": "python",
   "name": "python3"
  },
  "language_info": {
   "codemirror_mode": {
    "name": "ipython",
    "version": 3
   },
   "file_extension": ".py",
   "mimetype": "text/x-python",
   "name": "python",
   "nbconvert_exporter": "python",
   "pygments_lexer": "ipython3",
   "version": "3.7.4"
  }
 },
 "nbformat": 4,
 "nbformat_minor": 5
}
