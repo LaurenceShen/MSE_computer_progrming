{
 "cells": [
  {
   "cell_type": "markdown",
   "metadata": {},
   "source": [
    "# Description (20 points)\n",
    "\n",
    "Please write a program that prompts the user to enter six integers. <br>\n",
    "1. The first is the seed for the random number generation. \n",
    "2. The second is the lower bound for the random number. \n",
    "3. The third is the upper bound for the random number. \n",
    "4. The fourth is how many rows of integers you will generate.\n",
    "5. The fifth is how many numbers you are to generate for each row, and \n",
    "6. The sixth is an indicator for sorting. If the value is 0, the numbers are sorted in accending order, if it is 1, the they should be sorted in descending order.\n",
    "\n",
    "$lower \\le \\text{random number} < upper$\n",
    "\n"
   ]
  },
  {
   "cell_type": "markdown",
   "metadata": {},
   "source": [
    "# Input\n",
    "\n",
    "random number seed</br>\n",
    "lower bound</br>\n",
    "upper bound</br>\n",
    "rows</br>\n",
    "amount of number to generate for each row </br>\n",
    "sorting indicator"
   ]
  },
  {
   "cell_type": "markdown",
   "metadata": {},
   "source": [
    "# Output\n",
    "\n",
    "A matrix of random numbers generated and each row are sorted.<br>\n",
    "Statistic for each row: 1. mean, 2. max, 3. min"
   ]
  },
  {
   "cell_type": "markdown",
   "metadata": {},
   "source": [
    "# Sample Input 1"
   ]
  },
  {
   "cell_type": "markdown",
   "metadata": {},
   "source": [
    " 5 <br>\n",
    " 30 <br>\n",
    " 500 <br>\n",
    " 3 <br>\n",
    " 5 <br>\n",
    " 1"
   ]
  },
  {
   "cell_type": "markdown",
   "metadata": {},
   "source": [
    "# Sample Output 1"
   ]
  },
  {
   "cell_type": "markdown",
   "metadata": {},
   "source": [
    "Matrix: <br>\n",
    "[[430 385 236 219 148]<br>\n",
    " [476 261 258 103  38]<br>\n",
    " [441 238 188 142  37]]<br>\n",
    "Mean: [283.6 227.2 209.2]<br>\n",
    "Max: [430 476 441]<br>\n",
    "Min: [148  38  37]"
   ]
  },
  {
   "cell_type": "markdown",
   "metadata": {},
   "source": [
    "# Reading Input Records (given)\n",
    "The following lines of code will read in the input integers\n",
    "Please do not delete np.set_printoptions(legacy=\"1.13\") !!"
   ]
  },
  {
   "cell_type": "code",
   "execution_count": 1,
   "metadata": {},
   "outputs": [],
   "source": [
    "import numpy as np\n",
    "np.set_printoptions(legacy=\"1.13\")"
   ]
  },
  {
   "cell_type": "code",
   "execution_count": 2,
   "metadata": {},
   "outputs": [],
   "source": [
    "# seed = int(input())\n",
    "# lower = int(input())\n",
    "# upper = int(input())\n",
    "# rows = int(input())\n",
    "# amount = int(input())\n",
    "# sor = int(input())"
   ]
  },
  {
   "cell_type": "code",
   "execution_count": 3,
   "metadata": {},
   "outputs": [],
   "source": [
    "seed = 5\n",
    "lower = 30\n",
    "upper = 500\n",
    "rows = 3\n",
    "amount = 5\n",
    "sor = 1"
   ]
  },
  {
   "cell_type": "markdown",
   "metadata": {},
   "source": [
    "# Main Program (write your main program here and copy and paste them to online judge when you are confident.)"
   ]
  },
  {
   "cell_type": "markdown",
   "metadata": {},
   "source": [
    "## Generate the matrix of random numbers "
   ]
  },
  {
   "cell_type": "markdown",
   "metadata": {},
   "source": [
    "## Sort each row of the matrix"
   ]
  },
  {
   "cell_type": "markdown",
   "metadata": {},
   "source": [
    "## Calculate Statistics"
   ]
  }
 ],
 "metadata": {
  "kernelspec": {
   "display_name": "Python 3",
   "language": "python",
   "name": "python3"
  },
  "language_info": {
   "codemirror_mode": {
    "name": "ipython",
    "version": 3
   },
   "file_extension": ".py",
   "mimetype": "text/x-python",
   "name": "python",
   "nbconvert_exporter": "python",
   "pygments_lexer": "ipython3",
   "version": "3.7.4"
  }
 },
 "nbformat": 4,
 "nbformat_minor": 5
}
