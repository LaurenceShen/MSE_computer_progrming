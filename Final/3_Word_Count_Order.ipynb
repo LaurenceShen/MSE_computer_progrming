{
 "cells": [
  {
   "cell_type": "markdown",
   "metadata": {},
   "source": [
    "# Description (20 points)\n",
    "\n",
    "Please write a program to: \n",
    "\n",
    "1. read and parse a string containing a few words seperated by space;\n",
    "2. count the occurrences of each difference word; and \n",
    "3. output the results with a three-column format and proper headers. <br>\n",
    "    3.1 The first column contains the word in lowercase with the format of 12 slots and right alignment. <br>\n",
    "    3.2 The second column contains an integer to record the number of occurrences with the format of 10 slots and right alignment. <br>\n",
    "    3.3 The third column contains an integer representing the postion of the first occurrence of each word with the format of 12 slots and right alignment. <br><br>\n",
    "Note that the order of displaying words depends upon their occurrence first but maintaining their alphabetic order.\n",
    "\n"
   ]
  },
  {
   "cell_type": "markdown",
   "metadata": {},
   "source": [
    "# Input \n",
    "\n",
    "A string containing a few words separated by space (you need to write the input statement to read the string)"
   ]
  },
  {
   "cell_type": "markdown",
   "metadata": {},
   "source": [
    "# Output\n",
    "\n",
    "A formated word count table"
   ]
  },
  {
   "cell_type": "markdown",
   "metadata": {},
   "source": [
    "# Sample input"
   ]
  },
  {
   "cell_type": "code",
   "execution_count": 1,
   "metadata": {},
   "outputs": [],
   "source": [
    "#text = 'To be or not to be it is a question Is it'\n",
    "\n",
    "#text = 'Chapter one the boy who lived Harry Potter The boy harry potter potter'\n",
    "#text = 'Peter Piper picked a peck of pickled peppers a peck of pickled peppers Peter Piper picked If Peter Piper picked a peck of pickled peppers Where is the peck of pickled peppers Peter Piper picked'\n",
    "#text = 'How much wood would a woodchuck chuck if a woodchuck could chuck wood'\n",
    "#text = 'Can you can a can as a canner can can a can'\n",
    "#text = 'A skunk sat on a stump and thunk the stump stunk but the stump thunk the skunk stunk'\n",
    "#text = 'Betty Botter bought some butter But a bit of better butter will make my batter better'"
   ]
  },
  {
   "cell_type": "markdown",
   "metadata": {},
   "source": [
    "# Sample output"
   ]
  },
  {
   "cell_type": "code",
   "execution_count": null,
   "metadata": {},
   "outputs": [],
   "source": [
    "        WORD     COUNT   FST_OCCUR\n",
    "----------------------------------\n",
    "           a         1          25\n",
    "         not         1           9\n",
    "          or         1           6\n",
    "    question         1          27\n",
    "          be         2           3\n",
    "          is         2          22\n",
    "          it         2          19\n",
    "          to         2           0"
   ]
  },
  {
   "cell_type": "markdown",
   "metadata": {},
   "source": [
    "# Main Program (write your main program here and copy and paste them to online judge when you are confident.)"
   ]
  },
  {
   "cell_type": "code",
   "execution_count": null,
   "metadata": {},
   "outputs": [],
   "source": []
  }
 ],
 "metadata": {
  "kernelspec": {
   "display_name": "Python 3",
   "language": "python",
   "name": "python3"
  },
  "language_info": {
   "codemirror_mode": {
    "name": "ipython",
    "version": 3
   },
   "file_extension": ".py",
   "mimetype": "text/x-python",
   "name": "python",
   "nbconvert_exporter": "python",
   "pygments_lexer": "ipython3",
   "version": "3.7.4"
  }
 },
 "nbformat": 4,
 "nbformat_minor": 4
}
