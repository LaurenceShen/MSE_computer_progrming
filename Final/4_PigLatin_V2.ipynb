{
 "cells": [
  {
   "cell_type": "markdown",
   "metadata": {},
   "source": [
    "# Description (20 points)\n",
    "\n",
    "Pig Latin is a common children's secret language in English speaking countries. You had experienced it in one of the Labs this semester. Here is another version of the Pig Latin with different rules, as summarised below:\n",
    "\n",
    "-if the word contains two or more different lower case vowels(a, e, i, o, or u), add 'way' to the end of it. So the word 'wine', for example, contains two vowels (\"i\" and \"e\"), this giving us 'wineway';\n",
    "\n",
    "-if the word contains only one lower case vowel, we move the first letter to the end and add \"ay\". So the word 'wind' becomes 'indway'; and\n",
    "\n",
    "-if the word contains no vowels, it remains unchanged.\n",
    "\n",
    "In addition, you have to handle the following situations:\n",
    "\n",
    "-If the original word is capitalized, the translation should be similarly capitalized. So the word 'Wind', for example, becomes 'Indway'.You can assume that there is no words all in uppercase, e.g. 'WIND'.\n",
    "\n",
    "-If a word ends with punctuation, that punctuation should be moved to the end of the translated word. So the word 'wine,' becomes 'wineway,'. Here, the punctuation marks considered are limited to comma (','), period ('.'), colon(':'), question ('?') and exclamation ('!').\n",
    "\n",
    "Please write a program to read a string containing one or a few sentences, translate every English word into Pig Latin, and print the translated sentence(s).\n"
   ]
  },
  {
   "cell_type": "markdown",
   "metadata": {},
   "source": [
    "# Input\n",
    "\n",
    "A string containing one or a few sentences (you need to write the input statement to read the string)"
   ]
  },
  {
   "cell_type": "markdown",
   "metadata": {},
   "source": [
    "# Output\n",
    "\n",
    "The translated sentence(s)"
   ]
  },
  {
   "cell_type": "markdown",
   "metadata": {},
   "source": [
    "# Sample input"
   ]
  },
  {
   "cell_type": "code",
   "execution_count": 1,
   "metadata": {},
   "outputs": [],
   "source": [
    "str_in = 'There are only two kinds of languages. The ones people complain about, and the ones nobody uses.'\n",
    "\n",
    "\n",
    "#str_in = 'To be or not to be. That is a question.'\n",
    "#str_in = \"Marshall, Rubble, Chase. Rocky, Zuma, Skye. Yeah! They're on the way! Paw Patrol, Paw Patrol!\"\n",
    "#str_in = 'Louise, I think this is the beginning of a beautiful friendship.'\n",
    "#str_in = 'Mrs Robinson. Are you trying to seduce me?'\n",
    "#str_in = 'I believe I can fly.'"
   ]
  },
  {
   "cell_type": "markdown",
   "metadata": {},
   "source": [
    "# Sample output\n",
    "\n",
    "Heretay areway nlyoay wotay indskay foay languagesway. Hetay onesway peopleway complainway aboutway, ndaay hetay onesway obodynay usesway."
   ]
  },
  {
   "cell_type": "markdown",
   "metadata": {},
   "source": [
    "# Main Program (write your main program here and copy and paste them to online judge when you are confident.)"
   ]
  },
  {
   "cell_type": "code",
   "execution_count": null,
   "metadata": {},
   "outputs": [],
   "source": []
  }
 ],
 "metadata": {
  "kernelspec": {
   "display_name": "Python 3",
   "language": "python",
   "name": "python3"
  },
  "language_info": {
   "codemirror_mode": {
    "name": "ipython",
    "version": 3
   },
   "file_extension": ".py",
   "mimetype": "text/x-python",
   "name": "python",
   "nbconvert_exporter": "python",
   "pygments_lexer": "ipython3",
   "version": "3.7.4"
  }
 },
 "nbformat": 4,
 "nbformat_minor": 5
}
