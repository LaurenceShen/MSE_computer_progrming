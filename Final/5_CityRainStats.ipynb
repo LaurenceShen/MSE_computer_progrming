{
 "cells": [
  {
   "cell_type": "markdown",
   "id": "37956965",
   "metadata": {},
   "source": [
    "# Description (20 points)\n",
    "\n",
    "Please write a program to read a file with a given filename. The file contains hourly rainfall data for a given day for several major cities in the world. Calculates some statistics from these data, and print results as a formulated table. The statistics of interest inlcude: rainfall sum, standard deviation, and the maximum and minimum rainfall values. \n",
    "\n",
    "The file is in the CSV (Comma Separated Values) format with one header line, and an example is given below:\n",
    "\n",
    "City,Latitude,Longitude,Hour,Rain<br>\n",
    "Bogota,4.711,-74.0721,0,41.3<br>\n",
    "New York,40.7128,-74.006,0,0.5<br>\n",
    "Brussels,50.8503,4.3517,0,14.7<br>\n",
    "Bogota,4.711,-74.0721,1,7.7<br>\n",
    "New York,40.7128,-74.006,1,0.9<br>\n",
    "Brussels,50.8503,4.3517,1,22.3<br>\n",
    "Bogota,4.711,-74.0721,2,53.9<br>\n",
    "New York,40.7128,-74.006,2,0.1<br>\n",
    "Brussels,50.8503,4.3517,2,5.1<br>\n",
    "...\n",
    "\n",
    "As can be seen, each row includes rainfall data at a given clock hour for a given city, where the first three columns are the name and the coorinate (latitude and longitude) of the cities, the fourth column is the clock hour (integer from 0 to 23), and the fifth column is 1-hour rainfall depth data. Note that the number of cities in each input file is different. \n"
   ]
  },
  {
   "cell_type": "markdown",
   "id": "d8e7caa0",
   "metadata": {},
   "source": [
    "# Input\n",
    "\n",
    "A string (file name)"
   ]
  },
  {
   "cell_type": "markdown",
   "id": "cbcd43c9",
   "metadata": {},
   "source": [
    "# Output\n",
    "\n",
    "Summary statistics in a tabular format. \n",
    "\n",
    "The output table includes 5 columns. These are:<br>\n",
    "- City: the name of city, left-alighment, 12-character slot\n",
    "- Sum: the sum of hourly rainfall data for each city, left-alignment, 6-character space (including 1 decimal point)\n",
    "- Stdev: the standard deviation of hourly rainfall data for each city, left-alignment, 6-character space (including 1 decimal point)\n",
    "- Max: the maximum hourly rainfall data for each city, left-alignment, 6-character space (including 1 decimal point)\n",
    "- Min: the minimum hourly rainfall data for each city, left-alignment, 6-character space (including 1 decimal point)"
   ]
  },
  {
   "cell_type": "markdown",
   "id": "8bff2bb4",
   "metadata": {},
   "source": [
    "# Sample input"
   ]
  },
  {
   "cell_type": "markdown",
   "id": "b810defa",
   "metadata": {},
   "source": [
    "RainCity_test2.csv"
   ]
  },
  {
   "cell_type": "markdown",
   "id": "e5a8c653",
   "metadata": {},
   "source": [
    "# Sample out"
   ]
  },
  {
   "cell_type": "code",
   "execution_count": null,
   "id": "89471ab8",
   "metadata": {},
   "outputs": [],
   "source": [
    "City        Sum   Stdev Max   Min   \n",
    "------------------------------------\n",
    "Bogota      621.7 21.8  60.0  0.1   \n",
    "New York    105.7 5.5   15.7  0.0   \n",
    "Brussels    200.2 6.8   22.3  1.0   \n"
   ]
  },
  {
   "cell_type": "markdown",
   "id": "7e596fdc",
   "metadata": {},
   "source": [
    "# Reading Input Records (given)\n",
    "The following line of code will read in the input string and store in a variable called str_fn_in."
   ]
  },
  {
   "cell_type": "code",
   "execution_count": 1,
   "id": "8047effc",
   "metadata": {},
   "outputs": [],
   "source": [
    "# str_fn_in = input()\n",
    "str_fn_in = 'RainCity_test2.csv'"
   ]
  },
  {
   "cell_type": "markdown",
   "id": "5cdb961c",
   "metadata": {},
   "source": [
    "# Main Program (write your main program here and copy and paste them to online judge when you are confident.)"
   ]
  },
  {
   "cell_type": "code",
   "execution_count": null,
   "id": "a3cf6c51",
   "metadata": {},
   "outputs": [],
   "source": []
  }
 ],
 "metadata": {
  "kernelspec": {
   "display_name": "Python 3 (ipykernel)",
   "language": "python",
   "name": "python3"
  },
  "language_info": {
   "codemirror_mode": {
    "name": "ipython",
    "version": 3
   },
   "file_extension": ".py",
   "mimetype": "text/x-python",
   "name": "python",
   "nbconvert_exporter": "python",
   "pygments_lexer": "ipython3",
   "version": "3.8.8"
  }
 },
 "nbformat": 4,
 "nbformat_minor": 5
}
