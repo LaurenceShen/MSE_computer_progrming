{
 "cells": [
  {
   "cell_type": "markdown",
   "metadata": {},
   "source": [
    "# Description (20 points)\n",
    "\n",
    "In mathematics, the Fibonacci numbers form a sequence defined recursively by:\n",
    "\n",
    "$f_n =\n",
    "\\begin{cases}\n",
    "f_{0} & n = 0 \\\\\n",
    "f_{1} & n = 1 \\\\\n",
    "f_{n - 1} + f_{n - 2} & n > 1\n",
    "\\end{cases}$, $n \\in Z^+ = {0, 1, 2, ...}$\n",
    "\n",
    "That is, after two starting values $f_{0}$ and $f_{1}$, each number is the sum of the two preceding numbers. In general, $f_{0} = 0$ and $f_{1}=1$, but we can start with other numbers than 0 and 1.\n",
    "\n",
    "Please write a Fibo class with a proper constructor, attributes and methods to support object instantiation, representation and print methods, and addition and subtraction of two Fibonacci sequences specified by the given main program.<br><br> The addition of two Fibonacci sequences is defined as a union of non-repeative and sorted numbers and the subtraction of two Fibonacci sequences is defined as an intersection of non-repeative and sorted numbers. For example:\n",
    "\n",
    "fibo1 = Fibo(0, 1, 6)  -> [0, 1, 1, 2, 3, 5] create an object with $f_{0} = 0$, $f_{1} = 1$, number of terms = 6</br>\n",
    "fibo2 = Fibo(1, 4, 6)  -> [1, 4, 5, 9, 14, 23] create an object with $f_{0} = 1$, $f_{1} = 4$, number of terms = 6</br>\n",
    "fibo1 + fibo2 -> [0, 1, 2, 3, 4, 5, 9, 14, 23] union of two sequences</br>\n",
    "fibo1 - fibo2 -> [1, 5] intersection of two sequences</br>\n"
   ]
  },
  {
   "cell_type": "markdown",
   "metadata": {},
   "source": [
    "# Input\n",
    "\n",
    "This problem does not expect any input."
   ]
  },
  {
   "cell_type": "markdown",
   "metadata": {},
   "source": [
    "# Output\n",
    "The following output is expected:\n",
    "<pre>\n",
    "Fibo: [0, 1, 1, 2, 3, 5]\n",
    "Fibo: [1, 4, 5, 9, 14, 23]\n",
    "[0, 1, 2, 3, 4, 5, 9, 14, 23]\n",
    "[1, 5]\n",
    "Fibo: [2, 3, 5, 8, 13, 21, 34, 55]\n",
    "[0, 1, 2, 3, 4, 5, 8, 9, 13, 14, 21, 23, 34, 55]\n",
    "</pre>"
   ]
  },
  {
   "cell_type": "markdown",
   "metadata": {},
   "source": [
    "# Main Program (write the Fibo class. The rest of the main program will be provided. In the online judge, the main problem will be automatically executed. You only need the Fibo class.)"
   ]
  },
  {
   "cell_type": "markdown",
   "metadata": {},
   "source": [
    "## Fibo class"
   ]
  },
  {
   "cell_type": "code",
   "execution_count": null,
   "metadata": {},
   "outputs": [],
   "source": []
  },
  {
   "cell_type": "markdown",
   "metadata": {},
   "source": [
    "## main program:"
   ]
  },
  {
   "cell_type": "code",
   "execution_count": 2,
   "metadata": {},
   "outputs": [],
   "source": [
    "fibo1 = Fibo(0, 1, 6)"
   ]
  },
  {
   "cell_type": "code",
   "execution_count": 3,
   "metadata": {},
   "outputs": [
    {
     "data": {
      "text/plain": [
       "Fibo: [0, 1, 1, 2, 3, 5]"
      ]
     },
     "execution_count": 3,
     "metadata": {},
     "output_type": "execute_result"
    }
   ],
   "source": [
    "fibo1"
   ]
  },
  {
   "cell_type": "code",
   "execution_count": 4,
   "metadata": {},
   "outputs": [],
   "source": [
    "fibo2 = Fibo(1, 4, 6)"
   ]
  },
  {
   "cell_type": "code",
   "execution_count": 5,
   "metadata": {},
   "outputs": [
    {
     "data": {
      "text/plain": [
       "Fibo: [1, 4, 5, 9, 14, 23]"
      ]
     },
     "execution_count": 5,
     "metadata": {},
     "output_type": "execute_result"
    }
   ],
   "source": [
    "fibo2"
   ]
  },
  {
   "cell_type": "code",
   "execution_count": 6,
   "metadata": {},
   "outputs": [
    {
     "name": "stdout",
     "output_type": "stream",
     "text": [
      "[0, 1, 2, 3, 4, 5, 9, 14, 23]\n"
     ]
    }
   ],
   "source": [
    "print(fibo1 + fibo2)"
   ]
  },
  {
   "cell_type": "code",
   "execution_count": 7,
   "metadata": {},
   "outputs": [
    {
     "name": "stdout",
     "output_type": "stream",
     "text": [
      "[1, 5]\n"
     ]
    }
   ],
   "source": [
    "print(fibo1 - fibo2)"
   ]
  },
  {
   "cell_type": "code",
   "execution_count": 8,
   "metadata": {},
   "outputs": [],
   "source": [
    "fibo3 = Fibo(2, 3, 8)"
   ]
  },
  {
   "cell_type": "code",
   "execution_count": 9,
   "metadata": {},
   "outputs": [
    {
     "data": {
      "text/plain": [
       "Fibo: [2, 3, 5, 8, 13, 21, 34, 55]"
      ]
     },
     "execution_count": 9,
     "metadata": {},
     "output_type": "execute_result"
    }
   ],
   "source": [
    "fibo3"
   ]
  },
  {
   "cell_type": "code",
   "execution_count": 10,
   "metadata": {},
   "outputs": [
    {
     "name": "stdout",
     "output_type": "stream",
     "text": [
      "[0, 1, 2, 3, 4, 5, 8, 9, 13, 14, 21, 23, 34, 55]\n"
     ]
    }
   ],
   "source": [
    "print(fibo1 + fibo2 + fibo3)"
   ]
  }
 ],
 "metadata": {
  "kernelspec": {
   "display_name": "Python 3",
   "language": "python",
   "name": "python3"
  },
  "language_info": {
   "codemirror_mode": {
    "name": "ipython",
    "version": 3
   },
   "file_extension": ".py",
   "mimetype": "text/x-python",
   "name": "python",
   "nbconvert_exporter": "python",
   "pygments_lexer": "ipython3",
   "version": "3.7.4"
  }
 },
 "nbformat": 4,
 "nbformat_minor": 4
}
