{
 "cells": [
  {
   "cell_type": "markdown",
   "id": "66247b60",
   "metadata": {},
   "source": [
    "# Description (20 points)\n",
    "\n",
    "Please implement a program to prompt the user to enter few integers until 'Q' or 'q' is given. Then, please report those integers that belong to the Fibonacci sequence and the positions of those found integers from the input sequence. Report 'Not Found' if none of the input integers are in the Fibonacci sequence. \n",
    "\n"
   ]
  },
  {
   "cell_type": "markdown",
   "id": "160749dc",
   "metadata": {},
   "source": [
    "# Input \n",
    "\n",
    "Integer #1\n",
    "\n",
    "Integer #2\n",
    "\n",
    "Integer #3\n",
    "\n",
    "...\n",
    "\n",
    "Integer #N\n",
    "\n",
    "Char Q (or q)"
   ]
  },
  {
   "cell_type": "markdown",
   "id": "818a104b",
   "metadata": {},
   "source": [
    "# Output\n",
    "\n",
    "The input list\n",
    "\n",
    "A list of non-repeating input integers that can be found in the Fibonacci sequence\n",
    "\n",
    "Positions of those found integers in the original input list  "
   ]
  },
  {
   "cell_type": "markdown",
   "id": "4c9306fb",
   "metadata": {},
   "source": [
    "# Read Input Integers (given)\n",
    "The following lines of code will help you read in integers and store the values in a list called lst_in. "
   ]
  },
  {
   "cell_type": "code",
   "execution_count": null,
   "id": "8a2f0d5a",
   "metadata": {},
   "outputs": [],
   "source": [
    "# lst_in = []\n",
    "# str_in = input()\n",
    "# while str_in != 'Q' and str_in != 'q':\n",
    "#     lst_in.append(int(str_in))\n",
    "#     str_in = input()"
   ]
  },
  {
   "cell_type": "code",
   "execution_count": null,
   "id": "3921d77c",
   "metadata": {},
   "outputs": [],
   "source": [
    "# A sample list for testing\n",
    "lst_in = [0, 1, 1, 2, 5, 100]"
   ]
  },
  {
   "cell_type": "markdown",
   "id": "ab030d25",
   "metadata": {},
   "source": [
    "# Main Program (write your main program here and copy and paste them to online judge when you are confident.)"
   ]
  },
  {
   "cell_type": "code",
   "execution_count": null,
   "id": "1f8194aa",
   "metadata": {},
   "outputs": [],
   "source": []
  }
 ],
 "metadata": {
  "kernelspec": {
   "display_name": "Python 3 (ipykernel)",
   "language": "python",
   "name": "python3"
  },
  "language_info": {
   "codemirror_mode": {
    "name": "ipython",
    "version": 3
   },
   "file_extension": ".py",
   "mimetype": "text/x-python",
   "name": "python",
   "nbconvert_exporter": "python",
   "pygments_lexer": "ipython3",
   "version": "3.9.7"
  }
 },
 "nbformat": 4,
 "nbformat_minor": 5
}
