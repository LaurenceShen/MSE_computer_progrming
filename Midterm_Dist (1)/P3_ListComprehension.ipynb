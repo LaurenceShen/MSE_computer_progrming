{
 "cells": [
  {
   "cell_type": "markdown",
   "id": "b84def61",
   "metadata": {},
   "source": [
    "# Description (20 points)\n",
    "In this problem, you should use list comprehension to create a new list by reversing the input, and turning the alphabets in the string to a capital (upper case) character. You will then make the newly created list a tuple, and show the results."
   ]
  },
  {
   "cell_type": "markdown",
   "id": "5900a4c7",
   "metadata": {
    "tags": []
   },
   "source": [
    "# Input\n",
    "The input will be a list of strings accessed by variable $s$ such as:<br>\n",
    "s = ['123', 'abc', '54321', 'zxcv', \"12s45\"]"
   ]
  },
  {
   "cell_type": "markdown",
   "id": "32d8ea5d",
   "metadata": {},
   "source": [
    "# Output\n",
    "The output will be a tuple called $tp$. The size of the output $ls$ should be the same as that of the input. Each string in the input list $s$ should be reversed in order. Any character should become an upper case. <br>\n",
    "Example output:<br>\n",
    "('321', 'CBA', '12345', 'VCXZ', '54S21')"
   ]
  },
  {
   "cell_type": "markdown",
   "id": "9ac33e76",
   "metadata": {},
   "source": [
    "# Reading Input Records (given)\n",
    "The following lines of code will help you read in the records and store them in a list called s. "
   ]
  },
  {
   "cell_type": "code",
   "execution_count": null,
   "id": "6a9eb19c",
   "metadata": {},
   "outputs": [],
   "source": [
    "# s = []\n",
    "# while True:\n",
    "#     i = input()\n",
    "#     if i == 'Q':\n",
    "#     break\n",
    "#     s.append(i)"
   ]
  },
  {
   "cell_type": "code",
   "execution_count": null,
   "id": "6b6bc6a4",
   "metadata": {},
   "outputs": [],
   "source": [
    "# A sample list for testing\n",
    "s = ['123', 'abc', '54321', 'zxcv', \"12s45\"]"
   ]
  },
  {
   "cell_type": "markdown",
   "id": "97e64106",
   "metadata": {},
   "source": [
    "# Main Program (write your main program here and copy and paste them to online judge when you are confident.)"
   ]
  },
  {
   "cell_type": "code",
   "execution_count": null,
   "id": "5281a326",
   "metadata": {},
   "outputs": [],
   "source": []
  }
 ],
 "metadata": {
  "kernelspec": {
   "display_name": "Python 3 (ipykernel)",
   "language": "python",
   "name": "python3"
  },
  "language_info": {
   "codemirror_mode": {
    "name": "ipython",
    "version": 3
   },
   "file_extension": ".py",
   "mimetype": "text/x-python",
   "name": "python",
   "nbconvert_exporter": "python",
   "pygments_lexer": "ipython3",
   "version": "3.9.7"
  }
 },
 "nbformat": 4,
 "nbformat_minor": 5
}
