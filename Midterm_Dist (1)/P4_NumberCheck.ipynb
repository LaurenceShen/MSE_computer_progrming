{
 "cells": [
  {
   "cell_type": "markdown",
   "id": "ee3d7cf4",
   "metadata": {},
   "source": [
    "# Description (20 points)\n",
    "In this problem, you are to determine what a given string is: an integer, decimal, or neither. "
   ]
  },
  {
   "cell_type": "markdown",
   "id": "f1c7919d",
   "metadata": {},
   "source": [
    "# Input\n",
    "The input is a string such as the following:<br>\n",
    "123<br>"
   ]
  },
  {
   "cell_type": "markdown",
   "id": "19069efc",
   "metadata": {},
   "source": [
    "# Output\n",
    "The output is one of the following 5:<br>\n",
    "    1. a positive integer<br>\n",
    "    2. a negative integer<br>\n",
    "    3. a positive decimal<br>\n",
    "    4. a negative decimal<br>\n",
    "    5. not integer nor decimal<br><br>\n",
    "For the above sample input, the corresponding output is:<br>\n",
    "123 is a positive integer<br>"
   ]
  },
  {
   "cell_type": "markdown",
   "id": "99f6fc46",
   "metadata": {},
   "source": [
    "# More input and outputs:\n",
    "-12.3<br>\n",
    "-12.3 is a negative decimal<br><br>\n",
    "3.14<br>\n",
    "3.14 is a positive decimal<br><br>\n",
    "40000<br>\n",
    "40000 is a positive integer<br><br>\n",
    "123b<br>\n",
    "123b is not integer nor decimal<br><br>\n",
    "abcd<br>\n",
    "abcd is not integer nor decimal<br><br>\n",
    "0<br>\n",
    "0 is a positive integer<br><br>\n",
    "-abc<br>\n",
    "-abc is not integer nor decimal <br>"
   ]
  },
  {
   "cell_type": "markdown",
   "id": "f404428b",
   "metadata": {},
   "source": [
    "# Read Two Input Integers (given)\n",
    "The following line of code reads a string and store the value in s."
   ]
  },
  {
   "cell_type": "code",
   "execution_count": null,
   "id": "94c0dee7",
   "metadata": {},
   "outputs": [],
   "source": [
    "s = input()"
   ]
  },
  {
   "cell_type": "markdown",
   "id": "67625657",
   "metadata": {},
   "source": [
    "# Main Program (write your main program here and copy and paste them to online judge when you are confident.)"
   ]
  },
  {
   "cell_type": "code",
   "execution_count": null,
   "id": "cc4ef01a",
   "metadata": {},
   "outputs": [],
   "source": []
  }
 ],
 "metadata": {
  "kernelspec": {
   "display_name": "Python 3 (ipykernel)",
   "language": "python",
   "name": "python3"
  },
  "language_info": {
   "codemirror_mode": {
    "name": "ipython",
    "version": 3
   },
   "file_extension": ".py",
   "mimetype": "text/x-python",
   "name": "python",
   "nbconvert_exporter": "python",
   "pygments_lexer": "ipython3",
   "version": "3.9.7"
  }
 },
 "nbformat": 4,
 "nbformat_minor": 5
}
