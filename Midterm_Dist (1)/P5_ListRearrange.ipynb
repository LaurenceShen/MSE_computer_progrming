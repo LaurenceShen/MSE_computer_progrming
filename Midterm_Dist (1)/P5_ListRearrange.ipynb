{
 "cells": [
  {
   "cell_type": "markdown",
   "id": "9becd313",
   "metadata": {},
   "source": [
    "# Description (20 points)\n",
    "\n",
    "Please implement a program to prompt the user to enter few strings until 'Q' or 'q' is given. Then, please create a list to contain those input string and rearrange the order of these strings and print the new list. The rearrangement shall be done according to the following orders: \n",
    "\n",
    "Starting from those with numeric digits only, then those with alphabetical characters only, those with both numeric digits and alphabetical characters, and finally others. If a given input string contains only whitespace or is empty, it has to be removed.\n",
    "Except for those with alphabatic characters only, all items need to maintain their relative position in the original input order. Those with alphabetical characters only need to be sorted in descending order.\n"
   ]
  },
  {
   "cell_type": "markdown",
   "id": "b771da2d",
   "metadata": {},
   "source": [
    "# Input \n",
    "\n",
    "String #1\n",
    "\n",
    "String #2\n",
    "\n",
    "String #3\n",
    "\n",
    "...\n",
    "\n",
    "String #N\n",
    "\n",
    "Char Q (or q)"
   ]
  },
  {
   "cell_type": "markdown",
   "id": "c0908bb7",
   "metadata": {},
   "source": [
    "# Output\n",
    "\n",
    "The input list\n",
    "\n",
    "The re-arranged list"
   ]
  },
  {
   "cell_type": "markdown",
   "id": "bfa34203",
   "metadata": {},
   "source": [
    "# Read Input Integers (given)\n",
    "The following lines of code will help you read in records and store the values in a list called lst_in. "
   ]
  },
  {
   "cell_type": "code",
   "execution_count": null,
   "id": "0bb3036e",
   "metadata": {},
   "outputs": [],
   "source": [
    "# lst_in = []\n",
    "# \n",
    "# str_in = input()\n",
    "# \n",
    "# while str_in != 'Q' and str_in != 'q':\n",
    "#     lst_in.append(str_in)\n",
    "#     str_in = input()"
   ]
  },
  {
   "cell_type": "code",
   "execution_count": null,
   "id": "93537271",
   "metadata": {},
   "outputs": [],
   "source": [
    "# A sample list for testing\n",
    "lst_in = ['abc', '-12', '+-=', '345', ' ', '', 'MJ23', 'Abc', 'aBc', '123']"
   ]
  },
  {
   "cell_type": "markdown",
   "id": "7658c046",
   "metadata": {},
   "source": [
    "# Main Program (write your main program here and copy and paste them to online judge when you are confident.)"
   ]
  },
  {
   "cell_type": "code",
   "execution_count": null,
   "id": "cbd732f6",
   "metadata": {},
   "outputs": [],
   "source": []
  }
 ],
 "metadata": {
  "kernelspec": {
   "display_name": "Python 3 (ipykernel)",
   "language": "python",
   "name": "python3"
  },
  "language_info": {
   "codemirror_mode": {
    "name": "ipython",
    "version": 3
   },
   "file_extension": ".py",
   "mimetype": "text/x-python",
   "name": "python",
   "nbconvert_exporter": "python",
   "pygments_lexer": "ipython3",
   "version": "3.9.7"
  }
 },
 "nbformat": 4,
 "nbformat_minor": 5
}
