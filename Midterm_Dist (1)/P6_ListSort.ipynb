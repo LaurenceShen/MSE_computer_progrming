{
 "cells": [
  {
   "cell_type": "markdown",
   "id": "ada8d358",
   "metadata": {},
   "source": [
    "# Description (10 points)\n",
    "\n",
    "Consider a two-dimensional list with each row contains a list with one integer, one string and one float for ID, Name, and Score, respectively. Please implement a program to sort the records in terms of the length of Name."
   ]
  },
  {
   "cell_type": "markdown",
   "id": "1ab4089b",
   "metadata": {},
   "source": [
    "# Input \n",
    "\n",
    "You are given a two-dimesional list called lst."
   ]
  },
  {
   "cell_type": "markdown",
   "id": "1b34f409",
   "metadata": {},
   "source": [
    "# Output\n",
    "\n",
    "The sorted list in a tabulated format. Print a proper heading and allocate 3 slots for ID, 10 slots for Name, and 10 slots for float including 2 slots for the decimal part."
   ]
  },
  {
   "cell_type": "markdown",
   "id": "97042776",
   "metadata": {},
   "source": [
    "# Reading Input Records (given)\n",
    "The following lines of code will help you read in the values and store the values in a two-dimensional list called lst. "
   ]
  },
  {
   "cell_type": "code",
   "execution_count": null,
   "id": "3751ed4b",
   "metadata": {},
   "outputs": [],
   "source": [
    "# lst = []\n",
    "# while True:\n",
    "#     row = []\n",
    "#     record = input()\n",
    "#     if record == 'Q':\n",
    "#         break\n",
    "#     lt = record.split()\n",
    "#     row.append(int(lt[0]))\n",
    "#     row.append(lt[1])\n",
    "#     row.append(float(lt[2]))\n",
    "#     lst.append(row)"
   ]
  },
  {
   "cell_type": "code",
   "execution_count": null,
   "id": "0af865d4",
   "metadata": {},
   "outputs": [],
   "source": [
    "# A sample list for testing\n",
    "lst = [[1, 'Albert', 95.2], [2, 'John', 75.0], [3, 'Patrick', 89.5]]"
   ]
  },
  {
   "cell_type": "markdown",
   "id": "6b89be82",
   "metadata": {},
   "source": [
    "# Main Program (write your main program here and copy and paste them to online judge when you are confident.)"
   ]
  },
  {
   "cell_type": "code",
   "execution_count": null,
   "id": "1e8fd5c7",
   "metadata": {},
   "outputs": [],
   "source": []
  }
 ],
 "metadata": {
  "kernelspec": {
   "display_name": "Python 3 (ipykernel)",
   "language": "python",
   "name": "python3"
  },
  "language_info": {
   "codemirror_mode": {
    "name": "ipython",
    "version": 3
   },
   "file_extension": ".py",
   "mimetype": "text/x-python",
   "name": "python",
   "nbconvert_exporter": "python",
   "pygments_lexer": "ipython3",
   "version": "3.9.7"
  }
 },
 "nbformat": 4,
 "nbformat_minor": 5
}
