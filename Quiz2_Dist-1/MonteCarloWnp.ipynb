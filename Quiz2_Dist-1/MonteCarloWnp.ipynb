{
 "cells": [
  {
   "cell_type": "markdown",
   "id": "937ede12",
   "metadata": {
    "tags": []
   },
   "source": [
    "# Description (40 points)\n",
    "You are to use numpy's random module to implement the Monte Carlo simulation for the estimation of pi. Basically, you are to generate in sequence:<br>\n",
    "\n",
    "1. $n$ random of floats with domain $0 \\le x_i < 1$ for $i \\in {1,2,...,n}$; and then generate <br> \n",
    "2. $n$ random of floats with domain $0 \\le y_i < 1$ for $i \\in {1,2,...,n}$. \n",
    "\n",
    "The $x_i$ and $y_i$ are to be used to calculate $\\pi$ based on the following equations.<br><br>\n",
    "$$z_i = \\begin{cases}\n",
    "    1, & \\text{if } (x_i^2 + y_i^2) \\le 1\\\\\n",
    "    0,              & \\text{otherwise}\n",
    "\\end{cases}$$\n",
    "\n",
    "$$\\pi = \\frac{4\\cdot \\sum_{i=1}^{n} z_i}{n} $$\n",
    "\n",
    "<br><br>\n",
    "\n",
    "Just in case if you will need this, for boolean values, they could be added up. True is treated as the vaue 1, and False the value 0. <br>\n",
    "For example, <br>\n",
    "True + False is 1 <br>\n",
    "np.sum([True, True, False]) is 2<br>\n",
    "np.sum([True, False, False]) is 1<br>\n",
    "np.sum([True, True, True, False, True]) is 4<br><br>\n",
    "You can try the following code snippy: <br><br>\n",
    "import numpy as np <br>\n",
    "a = np.array([100, 200, 300, 400]) <br>\n",
    "np.sum(a < 250) <br><br>\n",
    "You will obtain the result 2 as only 100 and 200 are smaller than 250. The addition of these boolean values gives you 2.\n"
   ]
  },
  {
   "cell_type": "markdown",
   "id": "dea8d95d",
   "metadata": {},
   "source": [
    "# input\n",
    "random seed<br>\n",
    "n"
   ]
  },
  {
   "cell_type": "markdown",
   "id": "30af1358",
   "metadata": {},
   "source": [
    "# Output\n",
    "$\\pi$"
   ]
  },
  {
   "cell_type": "markdown",
   "id": "b83aeeae",
   "metadata": {},
   "source": [
    "# Sample Input 1\n",
    "0 </br>\n",
    "1000000"
   ]
  },
  {
   "cell_type": "markdown",
   "id": "9e3c07d7",
   "metadata": {},
   "source": [
    "# Sample Output 1\n",
    "3.138196"
   ]
  },
  {
   "cell_type": "markdown",
   "id": "1e1456f9",
   "metadata": {},
   "source": [
    "## Reading Input (given)\n",
    "The following lines of code will help you read in the input integers"
   ]
  },
  {
   "cell_type": "code",
   "execution_count": 4,
   "id": "678c77c9",
   "metadata": {},
   "outputs": [],
   "source": [
    "import numpy as np\n",
    "\n",
    "#seed = int(input())\n",
    "#n = int(input())\n",
    "seed = 10\n",
    "n = 10000"
   ]
  },
  {
   "cell_type": "markdown",
   "id": "47d47bae",
   "metadata": {},
   "source": [
    "# Main Program (write your main program here and copy and paste them to online judge when you are confident.)"
   ]
  },
  {
   "cell_type": "code",
   "execution_count": 5,
   "id": "efc4164e",
   "metadata": {},
   "outputs": [
    {
     "name": "stdout",
     "output_type": "stream",
     "text": [
      "3.1524\n"
     ]
    }
   ],
   "source": [
    "np.random.seed(seed)\n",
    "x = np.random.rand(n)\n",
    "y = np.random.rand(n)\n",
    "a = x**2+y**2\n",
    "print((4*np.sum(a<=1))/n)"
   ]
  },
  {
   "cell_type": "code",
   "execution_count": null,
   "id": "ec8a8932-b6fc-4f07-bf3a-fdc76adf256e",
   "metadata": {},
   "outputs": [],
   "source": []
  }
 ],
 "metadata": {
  "interpreter": {
   "hash": "071f83251836d5bb3918d2af6501aef1a588d685a567aa45f470f25864dd9495"
  },
  "kernelspec": {
   "display_name": "Python 3 (ipykernel)",
   "language": "python",
   "name": "python3"
  },
  "language_info": {
   "codemirror_mode": {
    "name": "ipython",
    "version": 3
   },
   "file_extension": ".py",
   "mimetype": "text/x-python",
   "name": "python",
   "nbconvert_exporter": "python",
   "pygments_lexer": "ipython3",
   "version": "3.9.7"
  }
 },
 "nbformat": 4,
 "nbformat_minor": 5
}
