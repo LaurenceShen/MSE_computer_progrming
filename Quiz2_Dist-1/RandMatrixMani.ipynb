{
 "cells": [
  {
   "cell_type": "markdown",
   "id": "3ec963d5",
   "metadata": {},
   "source": [
    "# Description (40 points)\n",
    "You are to use numpy's random module with a given seed to generate random integers in a 1D array of size $n$. Integer values $x$ in the 1D array should be in the domain $0 \\le x < 100$. Then please change the shape of the 1D array into a $r$ by $c$ 2D array. Last, you are to find those rows with mean larger than $m$, and report the sum of those rows.  "
   ]
  },
  {
   "cell_type": "markdown",
   "id": "1e2ed4e9",
   "metadata": {},
   "source": [
    "# Input\n",
    "n</br>\n",
    "r</br>\n",
    "c</br>\n",
    "m</br>\n",
    "seed</br>"
   ]
  },
  {
   "cell_type": "markdown",
   "id": "e54a8da6",
   "metadata": {},
   "source": [
    "# Output\n",
    "a list of sum of those rows with mean larger than m (i.e., the output type should be **list**; you should do all the calculations in numpy and convert the output from a numpy array into a list)"
   ]
  },
  {
   "cell_type": "markdown",
   "id": "6cab752f",
   "metadata": {},
   "source": [
    "# Sample Input 1\n",
    "100</br>\n",
    "4</br>\n",
    "25</br>\n",
    "45</br>\n",
    "0</br>"
   ]
  },
  {
   "cell_type": "markdown",
   "id": "d0eabdd8",
   "metadata": {},
   "source": [
    "# Sample Output 1\n",
    "[1458, 1164, 1217]"
   ]
  },
  {
   "cell_type": "markdown",
   "id": "e7f28851",
   "metadata": {},
   "source": [
    "## Reading Input (given)\n",
    "The following lines of code will help you read in the input integers"
   ]
  },
  {
   "cell_type": "code",
   "execution_count": 2,
   "id": "8eb2d8ac",
   "metadata": {},
   "outputs": [],
   "source": [
    "import numpy as np\n",
    "\n",
    "#n = int(input())\n",
    "#r = int(input())\n",
    "#c = int(input())\n",
    "#m = int(input())\n",
    "#seed = int(input())"
   ]
  },
  {
   "cell_type": "code",
   "execution_count": 3,
   "id": "832cc579",
   "metadata": {},
   "outputs": [],
   "source": [
    "n = 100\n",
    "r = 4\n",
    "c = 25\n",
    "m = 45\n",
    "seed = 0"
   ]
  },
  {
   "cell_type": "markdown",
   "id": "42f5761c",
   "metadata": {},
   "source": [
    "# Main Program (write your main program here and copy and paste them to online judge when you are confident.)"
   ]
  },
  {
   "cell_type": "code",
   "execution_count": 27,
   "id": "fcbd1eac",
   "metadata": {},
   "outputs": [
    {
     "name": "stdout",
     "output_type": "stream",
     "text": [
      "[1458, 1164, 1217]\n"
     ]
    }
   ],
   "source": [
    "np.random.seed(seed)\n",
    "a = np.random.randint(0,100, (r, c))\n",
    "b = a[a.mean(axis = 1) > m].sum(axis = 1) \n",
    "print(list(b))"
   ]
  },
  {
   "cell_type": "code",
   "execution_count": null,
   "id": "eb5a3969-ca22-4b74-adc7-21c7a3cb8c57",
   "metadata": {},
   "outputs": [],
   "source": []
  }
 ],
 "metadata": {
  "kernelspec": {
   "display_name": "Python 3 (ipykernel)",
   "language": "python",
   "name": "python3"
  },
  "language_info": {
   "codemirror_mode": {
    "name": "ipython",
    "version": 3
   },
   "file_extension": ".py",
   "mimetype": "text/x-python",
   "name": "python",
   "nbconvert_exporter": "python",
   "pygments_lexer": "ipython3",
   "version": "3.9.7"
  }
 },
 "nbformat": 4,
 "nbformat_minor": 5
}
