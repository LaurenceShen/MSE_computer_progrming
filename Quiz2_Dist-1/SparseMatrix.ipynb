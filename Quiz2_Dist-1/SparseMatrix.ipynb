{
 "cells": [
  {
   "cell_type": "markdown",
   "id": "711b6171",
   "metadata": {},
   "source": [
    "# Description (40 points)\n",
    "\n",
    "We have learned to use list to represent a matrix. This representation makes sense if a matrix is full of nonzero values. However, for a sparse matrix (i.e. a matrix that is comprised of mostly zero values), like the one below:\n",
    "\n",
    "\\begin{bmatrix}\n",
    "0 & 0 & 0 & 5 & 0\\\\\n",
    "0 & 0 & 0 & 0 & 0\\\\\n",
    "0 & 5 & 0 & 0 & 0\\\\\n",
    "0 & 0 & 0 & 0 & 6\\\\\n",
    "0 & 0 & 6 & 0 & 0\\\\\n",
    "\\end{bmatrix}\n",
    "\n",
    "A list may not be the most efficient way to represent the matrix since it contains a lot of zeros. \n",
    "\n",
    "An alternative is to use dictionary, where the row and column indexes can be joined as tuples and used as the keys, and we only have to record nonzero values. A dictionary representation of the above matrix can be obtained:\n",
    "\n",
    "$\\{(0,3):5, (2,1):5, (3,4):6, (4,2):6\\}$\n",
    "\n",
    "\n",
    "Please write a program for users to input the dimensions (i.e. the numbers of rows and columns) for a matrix and a given number of nonzero integers. Please first use a dictionary to store these nonzero integers and their locations, and then recover a full matrix based upon these input numbers.\n"
   ]
  },
  {
   "cell_type": "markdown",
   "id": "92a6962a",
   "metadata": {},
   "source": [
    "# Input\n",
    "\n",
    "nrows,ncols,nNonZeros<br>\n",
    "row_idx1,col_idx1,nonzero1<br>\n",
    "row_idx2,col_idx2,nonzero2<br>\n",
    "...<br>\n",
    "row_idxN,col_idxN,nonzeroN<br>\n"
   ]
  },
  {
   "cell_type": "markdown",
   "id": "3354b25b",
   "metadata": {},
   "source": [
    "# Output\n",
    "\n",
    "A dictionary with nonzero integers and their locations<br>\n",
    "A full matrix with both zero and nonzero integers<br>"
   ]
  },
  {
   "cell_type": "markdown",
   "id": "c290bf0d",
   "metadata": {},
   "source": [
    "# Sample input 1\n",
    "\n",
    "5,5,4<br>\n",
    "0,3,5<br>\n",
    "2,1,5<br>\n",
    "3,4,6<br>\n",
    "4,2,6<br>\n"
   ]
  },
  {
   "cell_type": "markdown",
   "id": "098fb784",
   "metadata": {},
   "source": [
    "# Sample output 1\n",
    "{(0, 3): 5, (2, 1): 5, (3, 4): 6, (4, 2): 6}</br>\n",
    "0 0 0 5 0 </br>\n",
    "0 0 0 0 0 </br>\n",
    "0 5 0 0 0 </br>\n",
    "0 0 0 0 6 </br>\n",
    "0 0 6 0 0 "
   ]
  },
  {
   "cell_type": "markdown",
   "id": "a34b5376",
   "metadata": {},
   "source": [
    "# Main Program (write your main program here and copy and paste them to online judge when you are confident.)"
   ]
  },
  {
   "cell_type": "code",
   "execution_count": 5,
   "id": "5a14d327",
   "metadata": {},
   "outputs": [
    {
     "name": "stdin",
     "output_type": "stream",
     "text": [
      " 5,5,4\n",
      " 0,3,5\n",
      " 2,1,5\n",
      " 3,4,6\n",
      " 4,2,6\n"
     ]
    },
    {
     "name": "stdout",
     "output_type": "stream",
     "text": [
      "{(0, 3): 5, (2, 1): 5, (3, 4): 6, (4, 2): 6}\n",
      "0 0 0 5 0 \n",
      "0 0 0 0 0 \n",
      "0 5 0 0 0 \n",
      "0 0 0 0 6 \n",
      "0 0 6 0 0 \n"
     ]
    }
   ],
   "source": [
    "a = [int(x) for x in input().split(',')]\n",
    "b = []\n",
    "dic = {}\n",
    "for i in range(a[0]):\n",
    "    b.append([])\n",
    "    for j in range(a[1]):\n",
    "        b[i].append(0)\n",
    "for i in range(a[2]):\n",
    "    c = [int(x) for x in input().split(',')]\n",
    "    dic[(c[0], c[1])] = c[2]\n",
    "    b[c[0]][c[1]] = c[2]\n",
    "print(dic)\n",
    "for i in range(a[0]):\n",
    "    for j in range(a[1]):\n",
    "        print(b[i][j], end = ' ')\n",
    "    print('')\n",
    "    "
   ]
  },
  {
   "cell_type": "code",
   "execution_count": null,
   "id": "4b866a0f-0a93-44b8-bd6d-c5d67b1cf611",
   "metadata": {},
   "outputs": [],
   "source": []
  }
 ],
 "metadata": {
  "kernelspec": {
   "display_name": "Python 3 (ipykernel)",
   "language": "python",
   "name": "python3"
  },
  "language_info": {
   "codemirror_mode": {
    "name": "ipython",
    "version": 3
   },
   "file_extension": ".py",
   "mimetype": "text/x-python",
   "name": "python",
   "nbconvert_exporter": "python",
   "pygments_lexer": "ipython3",
   "version": "3.9.7"
  }
 },
 "nbformat": 4,
 "nbformat_minor": 5
}
